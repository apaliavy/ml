{
 "cells": [
  {
   "attachments": {},
   "cell_type": "markdown",
   "metadata": {},
   "source": [
    "<center>Учреждение образования</center>\n",
    "<center>«Белорусский государственный университет информатики и радиоэлектроники»</center>\n",
    "<br><br>\n",
    "<center>Кафедра информатики</center>\n",
    "<br><br><br><br><br><br><br><br><br><br>\n",
    "<center>Лабораторная работа №2</center>\n",
    "<center>Логистическая регрессия. Многоклассовая классификация</center>\n",
    "<br><br><br><br><br><br><br><br>\n",
    "\n",
    "<p style='text-align: right;'>\n",
    "Выполнил:\n",
    "Полевой Александр Вадимович <br>\n",
    "магистрант кафедры информатики <br>      \n",
    "группа № 858641\t\n",
    "<br><br><br><br>\n",
    "Проверил:     Стержанов Максим Валерьевич\n",
    "</p>\n",
    "\n",
    "<br><br><br><br><br><br><br><br><br><br><br><br><br><br><br><br>\n",
    "\n",
    "<center>\n",
    "Минск 2019\n",
    "</center>\n"
   ]
  },
  {
   "cell_type": "markdown",
   "metadata": {},
   "source": [
    "Набор данных ex2data1.txt представляет собой текстовый файл, содержащий информацию об оценке студента по первому экзамену (первое число в строке), оценке по второму экзамену (второе число в строке) и поступлении в университет (0 - не поступил, 1 - поступил).\n",
    "\n",
    "**1.Загрузите данные ex2data1.txt из текстового файла.**"
   ]
  },
  {
   "cell_type": "code",
   "execution_count": 78,
   "metadata": {},
   "outputs": [
    {
     "data": {
      "text/html": [
       "<div>\n",
       "<style scoped>\n",
       "    .dataframe tbody tr th:only-of-type {\n",
       "        vertical-align: middle;\n",
       "    }\n",
       "\n",
       "    .dataframe tbody tr th {\n",
       "        vertical-align: top;\n",
       "    }\n",
       "\n",
       "    .dataframe thead th {\n",
       "        text-align: right;\n",
       "    }\n",
       "</style>\n",
       "<table border=\"1\" class=\"dataframe\">\n",
       "  <thead>\n",
       "    <tr style=\"text-align: right;\">\n",
       "      <th></th>\n",
       "      <th>exam_1</th>\n",
       "      <th>exam_2</th>\n",
       "      <th>result</th>\n",
       "    </tr>\n",
       "  </thead>\n",
       "  <tbody>\n",
       "    <tr>\n",
       "      <th>0</th>\n",
       "      <td>34.623660</td>\n",
       "      <td>78.024693</td>\n",
       "      <td>0</td>\n",
       "    </tr>\n",
       "    <tr>\n",
       "      <th>1</th>\n",
       "      <td>30.286711</td>\n",
       "      <td>43.894998</td>\n",
       "      <td>0</td>\n",
       "    </tr>\n",
       "    <tr>\n",
       "      <th>2</th>\n",
       "      <td>35.847409</td>\n",
       "      <td>72.902198</td>\n",
       "      <td>0</td>\n",
       "    </tr>\n",
       "    <tr>\n",
       "      <th>3</th>\n",
       "      <td>60.182599</td>\n",
       "      <td>86.308552</td>\n",
       "      <td>1</td>\n",
       "    </tr>\n",
       "    <tr>\n",
       "      <th>4</th>\n",
       "      <td>79.032736</td>\n",
       "      <td>75.344376</td>\n",
       "      <td>1</td>\n",
       "    </tr>\n",
       "  </tbody>\n",
       "</table>\n",
       "</div>"
      ],
      "text/plain": [
       "      exam_1     exam_2  result\n",
       "0  34.623660  78.024693       0\n",
       "1  30.286711  43.894998       0\n",
       "2  35.847409  72.902198       0\n",
       "3  60.182599  86.308552       1\n",
       "4  79.032736  75.344376       1"
      ]
     },
     "execution_count": 78,
     "metadata": {},
     "output_type": "execute_result"
    }
   ],
   "source": [
    "import numpy as np\n",
    "import pandas\n",
    "import matplotlib.pyplot as plt\n",
    "from scipy import optimize\n",
    "import scipy.io\n",
    "\n",
    "%matplotlib inline\n",
    "\n",
    "dataset = pandas.read_csv('data/ex2data1.txt', header=None, names=['exam_1', 'exam_2', 'result'])\n",
    "dataset.head()"
   ]
  },
  {
   "cell_type": "markdown",
   "metadata": {},
   "source": [
    "**2. Постройте график, где по осям откладываются оценки по предметам, а точки обозначаются двумя разными маркерами в зависимости от того, поступил ли данный студент в университет или нет.**"
   ]
  },
  {
   "cell_type": "code",
   "execution_count": 58,
   "metadata": {},
   "outputs": [
    {
     "data": {
      "image/png": "[encoded data removed]",
      "text/plain": [
       "<Figure size 720x432 with 1 Axes>"
      ]
     },
     "metadata": {
      "needs_background": "light"
     },
     "output_type": "display_data"
    }
   ],
   "source": [
    "def normalizer(df):\n",
    "    mean = df.mean().values\n",
    "    rng = (df.max()-df.min()).values\n",
    "    \n",
    "    def norm_func(val):\n",
    "        return (val - mean) / rng\n",
    "    \n",
    "    def denorm_func(val):\n",
    "        return val * rng + mean\n",
    "    \n",
    "    return norm_func, denorm_func\n",
    "\n",
    "ds = dataset.copy()\n",
    "ds.insert(0, '', 1)\n",
    "orig_X = ds.drop('result', axis=1).values\n",
    "\n",
    "norm_func, denorm_func = normalizer(dataset.copy().drop('result', axis=1))\n",
    "\n",
    "norm_df = norm_func(dataset.copy().drop('result', axis=1)) \n",
    "norm_df.insert(0, '', 1)\n",
    "\n",
    "norm_X = norm_df.values\n",
    "\n",
    "Y = ds['result'].values.reshape(-1, 1)\n",
    "\n",
    "plt.figure(figsize=(10,6))\n",
    "plt.plot(dataset[Y==1]['exam_1'],dataset[Y==1]['exam_2'], 'o', label='Passed')\n",
    "plt.plot(dataset[Y==0]['exam_1'],dataset[Y==0]['exam_2'], 'x', label='Not passed')\n",
    "plt.xlabel('Exam 1')\n",
    "plt.ylabel('Exam 2')\n",
    "plt.legend(loc=2)\n",
    "plt.grid(True)\n"
   ]
  },
  {
   "cell_type": "markdown",
   "metadata": {},
   "source": [
    "**3. Реализуйте функции потерь J(θ) и градиентного спуска для логистической регрессии с использованием векторизации.**"
   ]
  },
  {
   "cell_type": "code",
   "execution_count": 59,
   "metadata": {},
   "outputs": [
    {
     "data": {
      "text/plain": [
       "0.6931471805599453"
      ]
     },
     "execution_count": 59,
     "metadata": {},
     "output_type": "execute_result"
    }
   ],
   "source": [
    "def sigmoid(z):\n",
    "    return 1.0 / (1 + np.exp(-z))\n",
    "\n",
    "def h(theta, X):\n",
    "    return sigmoid(np.dot(X, theta))\n",
    "\n",
    "def J(theta, X, Y):\n",
    "    m = len(X)\n",
    "    h_res = h(theta, X)\n",
    "    \n",
    "    e1 = np.dot(-Y.T, np.log(h_res))\n",
    "    e2 = np.dot((1 - Y).T, np.log(1 - h_res))\n",
    "    \n",
    "    return (1 / m) * (e1 - e2).item()\n",
    "\n",
    "initial_theta = np.zeros((orig_X.shape[1],1))\n",
    "J(initial_theta, orig_X, Y)"
   ]
  },
  {
   "cell_type": "code",
   "execution_count": 16,
   "metadata": {},
   "outputs": [
    {
     "name": "stdout",
     "output_type": "stream",
     "text": [
      "θ = [ 1.71388635 14.35013779 13.71561879]\n",
      "J(θ) = 0.2034984061429642\n"
     ]
    },
    {
     "data": {
      "text/plain": [
       "Text(0, 0.5, 'J(θ)')"
      ]
     },
     "execution_count": 16,
     "metadata": {},
     "output_type": "execute_result"
    },
    {
     "data": {
      "image/png": "[encoded data removed]",
      "text/plain": [
       "<Figure size 720x432 with 1 Axes>"
      ]
     },
     "metadata": {
      "needs_background": "light"
     },
     "output_type": "display_data"
    }
   ],
   "source": [
    "def gradient_descent(X, Y, iterations = 500, alpha = 0.01):\n",
    "    n = X.shape[1]\n",
    "    m = len(Y)\n",
    "    theta = np.zeros([n, 1])    \n",
    "    j_hist = []\n",
    "    \n",
    "    for i in range(iterations):\n",
    "        h_res = h(theta, X)\n",
    "        dt = np.dot(X.T, (h_res - Y))\n",
    "        theta = theta - (alpha / m) * dt\n",
    "        j_hist.append(J(theta, X, Y))\n",
    "    return theta, np.asarray(j_hist)\n",
    "\n",
    "#----------\n",
    "\n",
    "gd_theta, j_hist = gradient_descent(norm_X, Y, 20000, 0.5)\n",
    "\n",
    "print(f'\\u03B8 = {gd_theta.reshape(-1)}')\n",
    "print(f'J(\\u03B8) = {j_hist[-1]}')\n",
    "\n",
    "plt.figure(figsize=(10,6))\n",
    "plt.plot(range(len(j_hist)), j_hist)\n",
    "plt.grid(True)\n",
    "plt.xlabel(\"Iterations\")\n",
    "plt.ylabel(\"J(\\u03B8)\")"
   ]
  },
  {
   "cell_type": "markdown",
   "metadata": {},
   "source": [
    "**4. Реализуйте другие методы (как минимум 2) оптимизации для реализованной функции стоимости (например, Метод Нелдера — Мида, Алгоритм Бройдена — Флетчера — Гольдфарба — Шанно, генетические методы и т.п.). Разрешается использовать библиотечные реализации методов оптимизации (например, из библиотеки scipy).**"
   ]
  },
  {
   "cell_type": "code",
   "execution_count": 60,
   "metadata": {},
   "outputs": [
    {
     "name": "stdout",
     "output_type": "stream",
     "text": [
      "CPU times: user 4 µs, sys: 0 ns, total: 4 µs\n",
      "Wall time: 19.8 µs\n",
      "θ = [ 1.71844706 14.3885508  13.75365682]\n",
      "J(θ) = 0.20349770159025407\n",
      "\n",
      "CPU times: user 4 µs, sys: 1e+03 ns, total: 5 µs\n",
      "Wall time: 8.11 µs\n",
      "θ = [ 1.71892115 14.39128206 13.75790149]\n",
      "J(θ) = 0.2034977115835461\n"
     ]
    }
   ],
   "source": [
    "def nelder_mead(X, Y):\n",
    "    result = optimize.minimize(J, x0=np.zeros([X.shape[1], 1]), args=(X, Y), method='Nelder-Mead')\n",
    "    return result.x, result.fun\n",
    "\n",
    "def bfgs(X, Y):\n",
    "    result = optimize.minimize(J, x0=np.zeros([X.shape[1], 1]), args=(X, Y), method='BFGS')\n",
    "    return result.x, result.fun\n",
    "\n",
    "#----------\n",
    "\n",
    "%time\n",
    "nm_theta, nm_cost = nelder_mead(norm_X, Y)\n",
    "\n",
    "print(f'\\u03B8 = {nm_theta}')\n",
    "print(f'J(\\u03B8) = {nm_cost}\\n')\n",
    "\n",
    "%time\n",
    "bfg_theta, bfg_cost = bfgs(norm_X, Y)\n",
    "\n",
    "print(f'\\u03B8 = {bfg_theta}')\n",
    "print(f'J(\\u03B8) = {bfg_cost}')"
   ]
  },
  {
   "cell_type": "markdown",
   "metadata": {},
   "source": [
    "**5. Реализуйте функцию предсказания вероятности поступления студента в зависимости от значений оценок по экзаменам.**"
   ]
  },
  {
   "cell_type": "code",
   "execution_count": 61,
   "metadata": {},
   "outputs": [
    {
     "data": {
      "text/plain": [
       "1"
      ]
     },
     "execution_count": 61,
     "metadata": {},
     "output_type": "execute_result"
    }
   ],
   "source": [
    "def predict(theta, x):\n",
    "    new_x = np.insert(norm_func(x), 0, 1, axis=0).reshape(1, -1)\n",
    "    return (h(theta, new_x) >= 0.5).astype(int)  \n",
    "\n",
    "predict(gd_theta, [70, 55]).item()"
   ]
  },
  {
   "cell_type": "markdown",
   "metadata": {},
   "source": [
    "**6. Постройте разделяющую прямую, полученную в результате обучения модели. Совместите прямую с графиком из пункта 2.**"
   ]
  },
  {
   "cell_type": "code",
   "execution_count": 62,
   "metadata": {},
   "outputs": [
    {
     "data": {
      "image/png": "[encoded data removed]",
      "text/plain": [
       "<Figure size 720x432 with 1 Axes>"
      ]
     },
     "metadata": {
      "needs_background": "light"
     },
     "output_type": "display_data"
    }
   ],
   "source": [
    "boundary_x = np.array([np.min(norm_X[:,1]), np.max(norm_X[:,1])])\n",
    "boundary_y = (-1./gd_theta[2])*(gd_theta[0] + gd_theta[1]*boundary_x)\n",
    "\n",
    "line =  np.hstack((boundary_x.reshape(-1, 1), boundary_y.reshape(-1, 1)))\n",
    "line = denorm_func(line)\n",
    "\n",
    "plt.figure(figsize=(10,6))\n",
    "plt.plot(dataset[Y==1]['exam_1'], dataset[Y==1]['exam_2'], 'o', label='Passed')\n",
    "plt.plot(dataset[Y==0]['exam_1'], dataset[Y==0]['exam_2'], 'x', label='Not passed')\n",
    "plt.plot(line[:,0], line[:,1],'b-',label='Boundary')\n",
    "plt.xlabel('Exam 1')\n",
    "plt.ylabel('Exam 2')\n",
    "plt.legend(loc=2)\n",
    "plt.grid(True)"
   ]
  },
  {
   "cell_type": "markdown",
   "metadata": {},
   "source": [
    "**7. Загрузите данные ex2data2.txt из текстового файла.**\n",
    "Набор данных ex2data2.txt представляет собой текстовый файл, содержащий информацию о результате первого теста (первое число в строке) и результате второго теста (второе число в строке) изделий и результате прохождения контроля (0 - контроль не пройден, 1 - контроль пройден)."
   ]
  },
  {
   "cell_type": "code",
   "execution_count": 79,
   "metadata": {},
   "outputs": [
    {
     "data": {
      "text/html": [
       "<div>\n",
       "<style scoped>\n",
       "    .dataframe tbody tr th:only-of-type {\n",
       "        vertical-align: middle;\n",
       "    }\n",
       "\n",
       "    .dataframe tbody tr th {\n",
       "        vertical-align: top;\n",
       "    }\n",
       "\n",
       "    .dataframe thead th {\n",
       "        text-align: right;\n",
       "    }\n",
       "</style>\n",
       "<table border=\"1\" class=\"dataframe\">\n",
       "  <thead>\n",
       "    <tr style=\"text-align: right;\">\n",
       "      <th></th>\n",
       "      <th>test_1</th>\n",
       "      <th>test_2</th>\n",
       "      <th>result</th>\n",
       "    </tr>\n",
       "  </thead>\n",
       "  <tbody>\n",
       "    <tr>\n",
       "      <th>0</th>\n",
       "      <td>0.051267</td>\n",
       "      <td>0.69956</td>\n",
       "      <td>1</td>\n",
       "    </tr>\n",
       "    <tr>\n",
       "      <th>1</th>\n",
       "      <td>-0.092742</td>\n",
       "      <td>0.68494</td>\n",
       "      <td>1</td>\n",
       "    </tr>\n",
       "    <tr>\n",
       "      <th>2</th>\n",
       "      <td>-0.213710</td>\n",
       "      <td>0.69225</td>\n",
       "      <td>1</td>\n",
       "    </tr>\n",
       "    <tr>\n",
       "      <th>3</th>\n",
       "      <td>-0.375000</td>\n",
       "      <td>0.50219</td>\n",
       "      <td>1</td>\n",
       "    </tr>\n",
       "    <tr>\n",
       "      <th>4</th>\n",
       "      <td>-0.513250</td>\n",
       "      <td>0.46564</td>\n",
       "      <td>1</td>\n",
       "    </tr>\n",
       "  </tbody>\n",
       "</table>\n",
       "</div>"
      ],
      "text/plain": [
       "     test_1   test_2  result\n",
       "0  0.051267  0.69956       1\n",
       "1 -0.092742  0.68494       1\n",
       "2 -0.213710  0.69225       1\n",
       "3 -0.375000  0.50219       1\n",
       "4 -0.513250  0.46564       1"
      ]
     },
     "execution_count": 79,
     "metadata": {},
     "output_type": "execute_result"
    }
   ],
   "source": [
    "dataset2 = pandas.read_csv('data/ex2data2.txt', header=None, names=['test_1', 'test_2', 'result'])\n",
    "dataset2.head()"
   ]
  },
  {
   "cell_type": "markdown",
   "metadata": {},
   "source": [
    "**8. Постройте график, где по осям откладываются результаты тестов, а точки обозначаются двумя разными маркерами в зависимости от того, прошло ли изделие контроль или нет.**"
   ]
  },
  {
   "cell_type": "code",
   "execution_count": 64,
   "metadata": {},
   "outputs": [
    {
     "name": "stdout",
     "output_type": "stream",
     "text": [
      "X2.shape = (118, 2)\n",
      "Y2.shape = (118, 1)\n"
     ]
    },
    {
     "data": {
      "image/png": "[encoded data removed]",
      "text/plain": [
       "<Figure size 576x576 with 1 Axes>"
      ]
     },
     "metadata": {
      "needs_background": "light"
     },
     "output_type": "display_data"
    }
   ],
   "source": [
    "tmp_ds = dataset2.copy()\n",
    "\n",
    "X2 = tmp_ds.drop('result', axis=1).values\n",
    "print(f'X2.shape = {X2.shape}')\n",
    "\n",
    "Y2 = tmp_ds['result'].values.reshape(-1, 1)\n",
    "print(f'Y2.shape = {Y2.shape}')\n",
    "\n",
    "r2_pass = Y2 == 1\n",
    "r2_fail = Y2 == 0\n",
    "\n",
    "def draw_tests_data():\n",
    "    plt.figure(figsize=(8,8))\n",
    "    plt.plot(dataset2[r2_pass]['test_1'], dataset2[r2_pass]['test_2'], 'o', label='Passed')\n",
    "    plt.plot(dataset2[r2_fail]['test_1'], dataset2[r2_fail]['test_2'], 'x', label='Not passed')\n",
    "    plt.xlabel('Test 1')\n",
    "    plt.ylabel('Test 2')\n",
    "    plt.legend()\n",
    "    plt.grid(True)\n",
    "    \n",
    "draw_tests_data()"
   ]
  },
  {
   "cell_type": "markdown",
   "metadata": {},
   "source": [
    "**9. Постройте все возможные комбинации признаков x1 (результат первого теста) и x2 (результат второго теста), в которых степень полинома не превышает 6, т.е. 1, x1, x2, x12, x1x2, x22, …, x1x25, x26 (всего 28 комбинаций).**"
   ]
  },
  {
   "cell_type": "code",
   "execution_count": 65,
   "metadata": {},
   "outputs": [
    {
     "data": {
      "text/plain": [
       "(118, 28)"
      ]
     },
     "execution_count": 65,
     "metadata": {},
     "output_type": "execute_result"
    }
   ],
   "source": [
    "def gen_polynom_matrix(X, degrees):\n",
    "    # первый столбик с единицами\n",
    "    m = len(X)\n",
    "    result = np.ones([m, 1])\n",
    "    \n",
    "    for i in range(1, degrees+1):\n",
    "        for j in range(0, i+1):\n",
    "            x1 = X[:,0] ** (i-j)\n",
    "            x2 = X[:,1] ** (j)\n",
    "            new_column = (x1 * x2).reshape(m, 1) \n",
    "            result = np.hstack((result, new_column ))\n",
    "            \n",
    "    return result\n",
    "\n",
    "X2_new = gen_polynom_matrix(X2, 6)\n",
    "X2_new.shape"
   ]
  },
  {
   "cell_type": "markdown",
   "metadata": {},
   "source": [
    "**10. Реализуйте L2-регуляризацию для логистической регрессии и обучите ее на расширенном наборе признаков методом градиентного спуска.**"
   ]
  },
  {
   "cell_type": "code",
   "execution_count": 66,
   "metadata": {},
   "outputs": [
    {
     "name": "stdout",
     "output_type": "stream",
     "text": [
      "θ = [-0.30674593 -0.02682097]\n",
      "J(θ) = 0.6902628739903155\n",
      "\n",
      "θ = [-0.00166241 -0.01681749  0.00281924 -0.04800576 -0.01140428 -0.03447094\n",
      " -0.01695299 -0.00686679 -0.0078626  -0.02109818 -0.03785319 -0.00213995\n",
      " -0.01231582 -0.00306428 -0.03684644 -0.01883949 -0.00413983 -0.00320314\n",
      " -0.00555821 -0.00436659 -0.02883546 -0.02987035 -0.00101293 -0.00609573\n",
      " -0.0003745  -0.00696725 -0.00136474 -0.03657153]\n",
      "J(θ) = 0.6818261709936212\n"
     ]
    }
   ],
   "source": [
    "def J_reg(theta, X, Y, l=0):\n",
    "    m = len(X)\n",
    "    h_res = h(theta, X)\n",
    "    e1 = np.dot(-Y.T, np.log(h_res))\n",
    "    e2 = np.dot((1 - Y).T, np.log(1 - h_res))\n",
    "    reg = l/2 * np.sum(np.dot(theta[1:].T, theta[1:]))\n",
    "    return (1 / m) * ((e1 - e2) + reg).item()\n",
    "\n",
    "def gd_step(theta, X, Y, lam=0):\n",
    "    m = len(Y)\n",
    "    h_res = h(theta, X)\n",
    "    res = (1./m) * np.dot(X.T, (h_res - Y))\n",
    "    res[1:] = res[1:] + (lam / m) * theta[1:]\n",
    "    return res\n",
    "\n",
    "def gd_reg(X, Y, iterations = 200, alpha = 0.01, l=0):\n",
    "    n = X.shape[1]\n",
    "    m = len(Y)\n",
    "    theta = np.zeros([n, 1])    \n",
    "    j_hist = []\n",
    "    for i in range(iterations):         \n",
    "        theta = theta - alpha * gd_step(theta, X, Y, l)\n",
    "        j_hist.append(J_reg(theta, X, Y, l))\n",
    "    return theta, np.asarray(j_hist)\n",
    "\n",
    "J_reg(np.asarray([0, 0.5, 3]), norm_X, Y, 0.1)\n",
    "gd_step(np.zeros([X2.shape[1], 1]), X2, Y2)\n",
    "gd_reg_theta, j_reg_hist = gd_reg(X2, Y2, 10000)\n",
    "\n",
    "gd_reg_theta_2, j_reg_hist_2 = gd_reg(X2_new, Y2, 100)\n",
    "\n",
    "print(f'\\u03B8 = {gd_reg_theta.reshape(-1)}')\n",
    "print(f'J(\\u03B8) = {j_reg_hist[-1]}\\n')\n",
    "\n",
    "print(f'\\u03B8 = {gd_reg_theta_2.reshape(-1)}')\n",
    "print(f'J(\\u03B8) = {j_reg_hist_2[-1]}')"
   ]
  },
  {
   "cell_type": "markdown",
   "metadata": {},
   "source": [
    "**11. Реализуйте другие методы оптимизации.**"
   ]
  },
  {
   "cell_type": "code",
   "execution_count": 67,
   "metadata": {},
   "outputs": [
    {
     "data": {
      "text/plain": [
       "(array([   35.10191072,    44.11915513,    69.27186932,  -344.27905054,\n",
       "         -198.23461597,  -184.22839935,  -295.82038448,  -621.7326092 ,\n",
       "         -510.84921955,  -328.31175034,  1094.70029673,  1269.58579578,\n",
       "         1757.74895386,   900.93783062,   436.58879066,   471.12027791,\n",
       "         1236.2384289 ,  1822.81991132,  1929.66710272,  1131.05282313,\n",
       "          463.79912903, -1142.11730981, -2020.95893299, -3463.39937364,\n",
       "        -3484.51005559, -3252.2669988 , -1546.00911374,  -510.41256813]),\n",
       " 0.22456873200303104)"
      ]
     },
     "execution_count": 67,
     "metadata": {},
     "output_type": "execute_result"
    }
   ],
   "source": [
    "init_theta = np.zeros([X2_new.shape[1], 1]).flatten()\n",
    "result = optimize.minimize(J_reg, x0=init_theta, args=(X2_new, Y2.flatten(), 0), method='BFGS', jac=gd_step)\n",
    "result.x, result.fun"
   ]
  },
  {
   "cell_type": "markdown",
   "metadata": {},
   "source": [
    "**12. Реализуйте функцию предсказания вероятности прохождения контроля изделием в зависимости от результатов тестов.**"
   ]
  },
  {
   "cell_type": "code",
   "execution_count": 68,
   "metadata": {},
   "outputs": [
    {
     "name": "stdout",
     "output_type": "stream",
     "text": [
      "Should equal to 1 - 1\n",
      "Should equal to 0 - 0\n"
     ]
    }
   ],
   "source": [
    "def predict_2(theta, x):\n",
    "    return (h(theta, x) >= 0.5).astype(int)  \n",
    "\n",
    "print(f'Should equal to 1 - {predict_2(gd_reg_theta, [-0.25, 0.5]).item()}')\n",
    "print(f'Should equal to 0 - {predict_2(gd_reg_theta, [1, 1]).item()}')"
   ]
  },
  {
   "cell_type": "markdown",
   "metadata": {},
   "source": [
    "**13. Постройте разделяющую кривую, полученную в результате обучения модели. Совместите прямую с графиком из пункта 7.**"
   ]
  },
  {
   "cell_type": "code",
   "execution_count": 69,
   "metadata": {},
   "outputs": [],
   "source": [
    "def bfgs_cust_reg(X, Y, l=0):    \n",
    "    init_theta = np.zeros([X.shape[1], 1]).flatten()\n",
    "    \n",
    "    result = optimize.minimize(J_reg, x0=init_theta, args=(X, Y.flatten(), l), method='BFGS', jac=gd_step)\n",
    "    return result.x, result.fun\n",
    "\n",
    "def plot_boundary(X, Y, l=0.):\n",
    "    theta, j_h = bfgs_cust_reg(X, Y, l)\n",
    "    \n",
    "    u = np.linspace(-1, 1.5 , 50)\n",
    "    v = np.linspace(-1, 1.5 , 50)\n",
    "    z = np.zeros((len(u), len(v)))\n",
    "    \n",
    "    for i in range(len(u)):\n",
    "        for j in range(len(v)):\n",
    "            fearure_row = gen_polynom_matrix(np.array([[u[i], v[j]]]), 6)\n",
    "            z[i][j] = h(theta, fearure_row)\n",
    "     \n",
    "    z = z.T\n",
    "    \n",
    "    draw_tests_data()\n",
    "    c = plt.contour( u, v, z, 0, colors='blue')\n",
    "    c.collections[0].set_label(f'\\u03bb = {l}')\n",
    "    plt.legend()\n",
    "    plt.title(\"Separator\")"
   ]
  },
  {
   "cell_type": "code",
   "execution_count": 70,
   "metadata": {},
   "outputs": [
    {
     "data": {
      "image/png": "[encoded data removed]",
      "text/plain": [
       "<Figure size 576x576 with 1 Axes>"
      ]
     },
     "metadata": {
      "needs_background": "light"
     },
     "output_type": "display_data"
    }
   ],
   "source": [
    "plot_boundary(X2_new, Y2, 0.001)"
   ]
  },
  {
   "cell_type": "markdown",
   "metadata": {},
   "source": [
    "**14. Попробуйте различные значения параметра регуляризации λ. Как выбор данного значения влияет на вид разделяющей кривой? Ответ дайте в виде графиков.**"
   ]
  },
  {
   "cell_type": "code",
   "execution_count": 71,
   "metadata": {},
   "outputs": [
    {
     "data": {
      "image/png": "[encoded data removed]",
      "text/plain": [
       "<Figure size 576x576 with 1 Axes>"
      ]
     },
     "metadata": {
      "needs_background": "light"
     },
     "output_type": "display_data"
    }
   ],
   "source": [
    "plot_boundary(X2_new, Y2, 0.01)"
   ]
  },
  {
   "cell_type": "markdown",
   "metadata": {},
   "source": [
    "**15. Загрузите данные ex2data3.mat из файла.**"
   ]
  },
  {
   "cell_type": "markdown",
   "metadata": {},
   "source": [
    "Набор данных ex2data3.mat представляет собой файл формата *.mat (т.е. сохраненного из Matlab). Набор содержит 5000 изображений 20x20 в оттенках серого. Каждый пиксель представляет собой значение яркости (вещественное число). Каждое изображение сохранено в виде вектора из 400 элементов. В результате загрузки набора данных должна быть получена матрица 5000x400. Далее расположены метки классов изображений от 1 до 9 (соответствуют цифрам от 1 до 9), а также 10 (соответствует цифре 0)."
   ]
  },
  {
   "cell_type": "code",
   "execution_count": 80,
   "metadata": {},
   "outputs": [
    {
     "data": {
      "text/plain": [
       "(5000, 400)"
      ]
     },
     "execution_count": 80,
     "metadata": {},
     "output_type": "execute_result"
    }
   ],
   "source": [
    "img_data = scipy.io.loadmat('data/ex2data3.mat')\n",
    "ex_3_X, ex_3_Y = img_data['X'], img_data['y']\n",
    "ex_3_X.shape"
   ]
  },
  {
   "cell_type": "markdown",
   "metadata": {},
   "source": [
    "**16. Визуализируйте несколько случайных изображений из набора данных. Визуализация должна содержать каждую цифру как минимум один раз.**"
   ]
  },
  {
   "cell_type": "code",
   "execution_count": 73,
   "metadata": {},
   "outputs": [
    {
     "data": {
      "image/png": "[encoded data removed]",
      "text/plain": [
       "<Figure size 432x288 with 10 Axes>"
      ]
     },
     "metadata": {
      "needs_background": "light"
     },
     "output_type": "display_data"
    }
   ],
   "source": [
    "vals, indexes = np.unique(ex_3_Y, return_index=True)\n",
    "def img_from_raw(data):\n",
    "    return data.reshape(20, 20).T\n",
    "\n",
    "fig, axs = plt.subplots(1, 10)\n",
    "for i in range(len(indexes)):\n",
    "    index = indexes[i]\n",
    "    val = vals[i]\n",
    "    axs[i].imshow(img_from_raw(ex_3_X[index]), cmap='gray')\n",
    "    axs[i].axis(\"off\")\n",
    "    \n",
    "plt.show()"
   ]
  },
  {
   "cell_type": "markdown",
   "metadata": {},
   "source": [
    "**17. Реализуйте бинарный классификатор с помощью логистической регрессии с использованием векторизации (функции потерь и градиентного спуска).**"
   ]
  },
  {
   "cell_type": "code",
   "execution_count": 74,
   "metadata": {},
   "outputs": [
    {
     "name": "stdout",
     "output_type": "stream",
     "text": [
      "m = 5000, n = 400\n"
     ]
    },
    {
     "data": {
      "text/plain": [
       "(400, 1)"
      ]
     },
     "execution_count": 74,
     "metadata": {},
     "output_type": "execute_result"
    }
   ],
   "source": [
    "ex_3_m = len(ex_3_Y)\n",
    "ex_3_n = ex_3_X.shape[1]\n",
    "\n",
    "print(f'm = {ex_3_m}, n = {ex_3_n}')\n",
    "\n",
    "ex_3_init_theta = np.zeros([ex_3_n, 1])\n",
    "ex_3_init_theta.shape"
   ]
  },
  {
   "cell_type": "markdown",
   "metadata": {},
   "source": [
    "**19. Реализуйте многоклассовую классификацию по методу “один против всех”.**"
   ]
  },
  {
   "cell_type": "code",
   "execution_count": 75,
   "metadata": {},
   "outputs": [
    {
     "name": "stdout",
     "output_type": "stream",
     "text": [
      "0 => 10\n"
     ]
    },
    {
     "name": "stderr",
     "output_type": "stream",
     "text": [
      "/usr/local/lib/python3.7/site-packages/ipykernel_launcher.py:5: RuntimeWarning: divide by zero encountered in log\n",
      "  \"\"\"\n",
      "/usr/local/lib/python3.7/site-packages/ipykernel_launcher.py:5: RuntimeWarning: divide by zero encountered in log\n",
      "  \"\"\"\n"
     ]
    },
    {
     "name": "stdout",
     "output_type": "stream",
     "text": [
      "1 => 1\n"
     ]
    },
    {
     "name": "stderr",
     "output_type": "stream",
     "text": [
      "/usr/local/lib/python3.7/site-packages/ipykernel_launcher.py:5: RuntimeWarning: divide by zero encountered in log\n",
      "  \"\"\"\n",
      "/usr/local/lib/python3.7/site-packages/ipykernel_launcher.py:5: RuntimeWarning: divide by zero encountered in log\n",
      "  \"\"\"\n"
     ]
    },
    {
     "name": "stdout",
     "output_type": "stream",
     "text": [
      "2 => 2\n"
     ]
    },
    {
     "name": "stderr",
     "output_type": "stream",
     "text": [
      "/usr/local/lib/python3.7/site-packages/ipykernel_launcher.py:5: RuntimeWarning: divide by zero encountered in log\n",
      "  \"\"\"\n",
      "/usr/local/lib/python3.7/site-packages/ipykernel_launcher.py:5: RuntimeWarning: divide by zero encountered in log\n",
      "  \"\"\"\n"
     ]
    },
    {
     "name": "stdout",
     "output_type": "stream",
     "text": [
      "3 => 3\n"
     ]
    },
    {
     "name": "stderr",
     "output_type": "stream",
     "text": [
      "/usr/local/lib/python3.7/site-packages/ipykernel_launcher.py:5: RuntimeWarning: divide by zero encountered in log\n",
      "  \"\"\"\n",
      "/usr/local/lib/python3.7/site-packages/ipykernel_launcher.py:5: RuntimeWarning: divide by zero encountered in log\n",
      "  \"\"\"\n"
     ]
    },
    {
     "name": "stdout",
     "output_type": "stream",
     "text": [
      "4 => 4\n"
     ]
    },
    {
     "name": "stderr",
     "output_type": "stream",
     "text": [
      "/usr/local/lib/python3.7/site-packages/ipykernel_launcher.py:5: RuntimeWarning: divide by zero encountered in log\n",
      "  \"\"\"\n",
      "/usr/local/lib/python3.7/site-packages/ipykernel_launcher.py:5: RuntimeWarning: divide by zero encountered in log\n",
      "  \"\"\"\n"
     ]
    },
    {
     "name": "stdout",
     "output_type": "stream",
     "text": [
      "5 => 5\n",
      "6 => 6\n"
     ]
    },
    {
     "name": "stderr",
     "output_type": "stream",
     "text": [
      "/usr/local/lib/python3.7/site-packages/ipykernel_launcher.py:5: RuntimeWarning: divide by zero encountered in log\n",
      "  \"\"\"\n",
      "/usr/local/lib/python3.7/site-packages/ipykernel_launcher.py:5: RuntimeWarning: divide by zero encountered in log\n",
      "  \"\"\"\n"
     ]
    },
    {
     "name": "stdout",
     "output_type": "stream",
     "text": [
      "7 => 7\n"
     ]
    },
    {
     "name": "stderr",
     "output_type": "stream",
     "text": [
      "/usr/local/lib/python3.7/site-packages/ipykernel_launcher.py:5: RuntimeWarning: divide by zero encountered in log\n",
      "  \"\"\"\n",
      "/usr/local/lib/python3.7/site-packages/ipykernel_launcher.py:5: RuntimeWarning: divide by zero encountered in log\n",
      "  \"\"\"\n"
     ]
    },
    {
     "name": "stdout",
     "output_type": "stream",
     "text": [
      "8 => 8\n",
      "9 => 9\n"
     ]
    },
    {
     "data": {
      "text/plain": [
       "(10, 401)"
      ]
     },
     "execution_count": 75,
     "metadata": {},
     "output_type": "execute_result"
    }
   ],
   "source": [
    "\n",
    "def fmin_cg_alg(X, Y, lam=0):\n",
    "    init_theta = np.zeros([X.shape[1], 1]).flatten()\n",
    "    result = optimize.fmin_cg(J_reg, fprime=gd_step, x0=init_theta, args=(X, Y.flatten(), lam), maxiter=50, disp=False, full_output=True)\n",
    "    return result[0], result[1]\n",
    "\n",
    "def train_classifier(X, Y, lam=0):\n",
    "    m = X.shape[0]\n",
    "    n = X.shape[1]\n",
    "    classes_count = 10\n",
    "    thetas = np.zeros([classes_count, n])\n",
    "    for klass in range(classes_count):\n",
    "        class_index = klass if klass else 10 # 10 - это 0\n",
    "        print(f'{klass} => {class_index}')\n",
    "        replaced_Y = (Y == class_index).astype(int)\n",
    "        #theta, cost = fmin_cg_alg(X, replaced_Y, lam)  # lam - 0.001 -> 95.6%\n",
    "        theta, cost = bfgs_cust_reg(X, replaced_Y, lam) # lam - 0.001 -> 97.2%\n",
    "        thetas[klass] = theta\n",
    "    return thetas\n",
    "\n",
    "ex_3_X_ext = np.hstack((np.ones((ex_3_m, 1)), ex_3_X))\n",
    "\n",
    "thetas = train_classifier(ex_3_X_ext, ex_3_Y, 0.001)\n",
    "thetas.shape"
   ]
  },
  {
   "cell_type": "markdown",
   "metadata": {},
   "source": [
    "**20. Реализуйте функцию предсказания класса по изображению с использованием обученных классификаторов.**"
   ]
  },
  {
   "cell_type": "code",
   "execution_count": 76,
   "metadata": {},
   "outputs": [
    {
     "name": "stdout",
     "output_type": "stream",
     "text": [
      "Class = 6, predicted = 6\n"
     ]
    }
   ],
   "source": [
    "def predClass(thetas, x):\n",
    "    return np.argmax(h(thetas.T, x))\n",
    "\n",
    "x, y = ex_3_X_ext[3000], ex_3_Y[3000].item()\n",
    "\n",
    "print(f'Class = {y}, predicted = {predClass(thetas, x)}')"
   ]
  },
  {
   "cell_type": "markdown",
   "metadata": {},
   "source": [
    "**21. Процент правильных классификаций на обучающей выборке должен составлять около 95%.**"
   ]
  },
  {
   "cell_type": "code",
   "execution_count": 77,
   "metadata": {},
   "outputs": [
    {
     "name": "stdout",
     "output_type": "stream",
     "text": [
      "Accuracy: 97.2%\n"
     ]
    }
   ],
   "source": [
    "def calc_accuracy(thetas, X, Y):\n",
    "    m = X.shape[0]\n",
    "    correct = 0\n",
    "    \n",
    "    for i in range(m):\n",
    "        pred = predClass(thetas, X[i])\n",
    "        pred = pred if pred else 10\n",
    "        \n",
    "        if pred == Y[i]:\n",
    "            correct += 1\n",
    "\n",
    "    return correct/m\n",
    "\n",
    "print(\"Accuracy: %0.1f%%\"%(100*calc_accuracy(thetas, ex_3_X_ext, ex_3_Y)))"
   ]
  },
  {
   "cell_type": "markdown",
   "metadata": {},
   "source": [
    "**Вывод** \n",
    "\n",
    "В методе логической регрессии не производится предсказание значения числовой переменной исходя из выборки исходных значений. Вместо этого, значением функции является вероятность того, что данное исходное значение принадлежит к определенному классу\n",
    "\n",
    "Основная идея такого типа регрессии заключается в том, что пространство исходных значений может быть разделено границей на две классифицированные области. При 2х измерениях это прямая линия, при трех - плоскость и тд. \n",
    "\n",
    "Для того, чтобы это работало точки исходных данных должны разделяться границей на две области. Если они удовлетворяют этому условию, то их можно назвать линейно разделяемыми. "
   ]
  }
 ],
 "metadata": {
  "kernelspec": {
   "display_name": "Python 3",
   "language": "python",
   "name": "python3"
  },
  "language_info": {
   "codemirror_mode": {
    "name": "ipython",
    "version": 3
   },
   "file_extension": ".py",
   "mimetype": "text/x-python",
   "name": "python",
   "nbconvert_exporter": "python",
   "pygments_lexer": "ipython3",
   "version": "3.7.4"
  }
 },
 "nbformat": 4,
 "nbformat_minor": 2
}
