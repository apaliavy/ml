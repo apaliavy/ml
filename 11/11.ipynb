{
 "cells": [
  {
   "cell_type": "markdown",
   "metadata": {},
   "source": [
    "<center>Учреждение образования</center>\n",
    "<center>«Белорусский государственный университет информатики и радиоэлектроники»</center>\n",
    "<br><br>\n",
    "<center>Кафедра информатики</center>\n",
    "<br><br><br><br><br><br><br><br><br><br>\n",
    "<center>Лабораторная работа №11</center>\n",
    "<center>Реализация криптографических атак с помощью машинного обучения на физически неклонируемые функции</center>\n",
    "<br><br><br><br><br><br><br><br>\n",
    "\n",
    "<p style='text-align: right;'>\n",
    "Выполнил:\n",
    "Полевой Александр Вадимович <br>\n",
    "магистрант кафедры информатики <br>      \n",
    "группа № 858641\t\n",
    "<br><br><br><br>\n",
    "Проверил:     Стержанов Максим Валерьевич\n",
    "</p>\n",
    "\n",
    "<br><br><br><br><br><br><br><br><br><br><br><br><br><br><br><br>\n",
    "\n",
    "<center>\n",
    "Минск 2019\n",
    "</center>"
   ]
  },
  {
   "cell_type": "markdown",
   "metadata": {},
   "source": [
    "**1. Изучите классическую работу У. Рурмаира о криптографических атаках с помощью машинного обучения на ФНФ** \n",
    "<br>\n",
    "**2. Сформулируйте задачу в терминах машинного обучения.**"
   ]
  },
  {
   "cell_type": "code",
   "execution_count": 5,
   "metadata": {},
   "outputs": [],
   "source": [
    "import numpy as np\n",
    "import sklearn\n",
    "from sklearn.linear_model import LogisticRegression\n",
    "from sklearn.model_selection import train_test_split\n",
    "\n",
    "import warnings\n",
    "warnings.filterwarnings(\"ignore\", category=FutureWarning)\n",
    "\n",
    "from sklearn.metrics import f1_score, accuracy_score\n",
    "import matplotlib.pyplot as plt\n",
    "from sklearn.ensemble import GradientBoostingClassifier\n",
    "from sklearn.svm import SVC"
   ]
  },
  {
   "cell_type": "code",
   "execution_count": 6,
   "metadata": {},
   "outputs": [],
   "source": [
    "def get_data(filename, row_limit = 15000):\n",
    "    ch = []\n",
    "    resp = []\n",
    "    \n",
    "    with open(filename, 'r') as fp:\n",
    "        for idx, line in enumerate(fp):\n",
    "            if idx >= row_limit: break\n",
    "            data = line.strip().split(' ')\n",
    "            ch.append(np.asarray(list(data[0]), dtype=np.int8))\n",
    "            resp.append(np.asarray(data[1], dtype=np.int8))\n",
    "            \n",
    "    X = np.asarray(ch)\n",
    "    y = np.array(resp)\n",
    "    \n",
    "    return X, y"
   ]
  },
  {
   "cell_type": "code",
   "execution_count": 9,
   "metadata": {},
   "outputs": [],
   "source": [
    "def der_challenge(challenges):    \n",
    "    challenges_der = np.zeros(challenges.shape)\n",
    "    challenges = 1 - 2 * challenges\n",
    "    \n",
    "    for i in range(len(challenges)):\n",
    "        challenge = challenges[i]\n",
    "        \n",
    "        challenges_der[i][0] = challenge[0]\n",
    "        \n",
    "        for j in range(1, len(challenge)):\n",
    "            challenges_der[i][j] = challenges_der[i][j-1] * challenge[j]\n",
    "    \n",
    "    return challenges_der"
   ]
  },
  {
   "cell_type": "code",
   "execution_count": 10,
   "metadata": {},
   "outputs": [],
   "source": [
    "X_16b, y_16b = get_data('data/Base16.txt')"
   ]
  },
  {
   "cell_type": "code",
   "execution_count": 11,
   "metadata": {},
   "outputs": [],
   "source": [
    "X_16b_der = der_challenge(X_16b)"
   ]
  },
  {
   "cell_type": "code",
   "execution_count": 12,
   "metadata": {},
   "outputs": [
    {
     "data": {
      "text/plain": [
       "(array([0, 1], dtype=int8), array([7236, 7764]))"
      ]
     },
     "execution_count": 12,
     "metadata": {},
     "output_type": "execute_result"
    }
   ],
   "source": [
    "np.unique(y_16b, return_counts=True)"
   ]
  },
  {
   "cell_type": "markdown",
   "metadata": {},
   "source": [
    "**3. Обучите модель, которая могла бы предсказывать ответы по запросам, которых нет в обучающей выборке.**"
   ]
  },
  {
   "cell_type": "code",
   "execution_count": 13,
   "metadata": {},
   "outputs": [
    {
     "name": "stdout",
     "output_type": "stream",
     "text": [
      "Accuracy: 0.992\n",
      "f1: 0.9921793534932221\n"
     ]
    }
   ],
   "source": [
    "X_16b_train, X_16b_test, y_16b_train, y_16b_test = train_test_split(X_16b_der, y_16b)\n",
    "\n",
    "lr_model = LogisticRegression()\n",
    "lr_model.fit(X_16b_train, y_16b_train)\n",
    "y_16b_test_pred = lr_model.predict(X_16b_test)\n",
    "\n",
    "print(f'Accuracy: {accuracy_score(y_16b_test, y_16b_test_pred)}')\n",
    "print(f'f1: {f1_score(y_16b_test, y_16b_test_pred)}')"
   ]
  },
  {
   "cell_type": "code",
   "execution_count": 14,
   "metadata": {},
   "outputs": [
    {
     "ename": "FileNotFoundError",
     "evalue": "[Errno 2] No such file or directory: 'data/Base64.txt'",
     "output_type": "error",
     "traceback": [
      "\u001b[0;31m---------------------------------------------------------------------------\u001b[0m",
      "\u001b[0;31mFileNotFoundError\u001b[0m                         Traceback (most recent call last)",
      "\u001b[0;32m<ipython-input-14-e75ad83eec94>\u001b[0m in \u001b[0;36m<module>\u001b[0;34m\u001b[0m\n\u001b[1;32m      7\u001b[0m     \u001b[0max\u001b[0m \u001b[0;34m=\u001b[0m \u001b[0maxes\u001b[0m\u001b[0;34m[\u001b[0m\u001b[0mi\u001b[0m\u001b[0;34m]\u001b[0m\u001b[0;34m\u001b[0m\u001b[0;34m\u001b[0m\u001b[0m\n\u001b[1;32m      8\u001b[0m     \u001b[0mfile\u001b[0m \u001b[0;34m=\u001b[0m \u001b[0mfiles_balance\u001b[0m\u001b[0;34m[\u001b[0m\u001b[0mi\u001b[0m\u001b[0;34m]\u001b[0m\u001b[0;34m\u001b[0m\u001b[0;34m\u001b[0m\u001b[0m\n\u001b[0;32m----> 9\u001b[0;31m     \u001b[0mX\u001b[0m\u001b[0;34m,\u001b[0m \u001b[0my\u001b[0m \u001b[0;34m=\u001b[0m \u001b[0mget_data\u001b[0m\u001b[0;34m(\u001b[0m\u001b[0mfile\u001b[0m\u001b[0;34m)\u001b[0m\u001b[0;34m\u001b[0m\u001b[0;34m\u001b[0m\u001b[0m\n\u001b[0m\u001b[1;32m     10\u001b[0m     \u001b[0muniq\u001b[0m \u001b[0;34m=\u001b[0m \u001b[0mnp\u001b[0m\u001b[0;34m.\u001b[0m\u001b[0munique\u001b[0m\u001b[0;34m(\u001b[0m\u001b[0my\u001b[0m\u001b[0;34m,\u001b[0m \u001b[0mreturn_counts\u001b[0m\u001b[0;34m=\u001b[0m\u001b[0;32mTrue\u001b[0m\u001b[0;34m)\u001b[0m\u001b[0;34m\u001b[0m\u001b[0;34m\u001b[0m\u001b[0m\n\u001b[1;32m     11\u001b[0m     \u001b[0max\u001b[0m\u001b[0;34m.\u001b[0m\u001b[0mbar\u001b[0m\u001b[0;34m(\u001b[0m\u001b[0muniq\u001b[0m\u001b[0;34m[\u001b[0m\u001b[0;36m0\u001b[0m\u001b[0;34m]\u001b[0m\u001b[0;34m,\u001b[0m \u001b[0muniq\u001b[0m\u001b[0;34m[\u001b[0m\u001b[0;36m1\u001b[0m\u001b[0;34m]\u001b[0m\u001b[0;34m,\u001b[0m \u001b[0mcolor\u001b[0m\u001b[0;34m=\u001b[0m\u001b[0;34m[\u001b[0m\u001b[0;34m'blue'\u001b[0m\u001b[0;34m,\u001b[0m \u001b[0;34m'green'\u001b[0m\u001b[0;34m]\u001b[0m\u001b[0;34m)\u001b[0m\u001b[0;34m\u001b[0m\u001b[0;34m\u001b[0m\u001b[0m\n",
      "\u001b[0;32m<ipython-input-6-f8d0a47a81b8>\u001b[0m in \u001b[0;36mget_data\u001b[0;34m(filename, row_limit)\u001b[0m\n\u001b[1;32m      3\u001b[0m     \u001b[0mresp\u001b[0m \u001b[0;34m=\u001b[0m \u001b[0;34m[\u001b[0m\u001b[0;34m]\u001b[0m\u001b[0;34m\u001b[0m\u001b[0;34m\u001b[0m\u001b[0m\n\u001b[1;32m      4\u001b[0m \u001b[0;34m\u001b[0m\u001b[0m\n\u001b[0;32m----> 5\u001b[0;31m     \u001b[0;32mwith\u001b[0m \u001b[0mopen\u001b[0m\u001b[0;34m(\u001b[0m\u001b[0mfilename\u001b[0m\u001b[0;34m,\u001b[0m \u001b[0;34m'r'\u001b[0m\u001b[0;34m)\u001b[0m \u001b[0;32mas\u001b[0m \u001b[0mfp\u001b[0m\u001b[0;34m:\u001b[0m\u001b[0;34m\u001b[0m\u001b[0;34m\u001b[0m\u001b[0m\n\u001b[0m\u001b[1;32m      6\u001b[0m         \u001b[0;32mfor\u001b[0m \u001b[0midx\u001b[0m\u001b[0;34m,\u001b[0m \u001b[0mline\u001b[0m \u001b[0;32min\u001b[0m \u001b[0menumerate\u001b[0m\u001b[0;34m(\u001b[0m\u001b[0mfp\u001b[0m\u001b[0;34m)\u001b[0m\u001b[0;34m:\u001b[0m\u001b[0;34m\u001b[0m\u001b[0;34m\u001b[0m\u001b[0m\n\u001b[1;32m      7\u001b[0m             \u001b[0;32mif\u001b[0m \u001b[0midx\u001b[0m \u001b[0;34m>=\u001b[0m \u001b[0mrow_limit\u001b[0m\u001b[0;34m:\u001b[0m \u001b[0;32mbreak\u001b[0m\u001b[0;34m\u001b[0m\u001b[0;34m\u001b[0m\u001b[0m\n",
      "\u001b[0;31mFileNotFoundError\u001b[0m: [Errno 2] No such file or directory: 'data/Base64.txt'"
     ]
    },
    {
     "data": {
      "image/png": "[encoded data removed]",
      "text/plain": [
       "<Figure size 864x216 with 7 Axes>"
      ]
     },
     "metadata": {
      "needs_background": "light"
     },
     "output_type": "display_data"
    }
   ],
   "source": [
    "#to large to be pushed to github\n",
    "files_balance = ['data/Base8.txt', 'data/Base16.txt', 'data/Base32.txt', 'data/Base48.txt', 'data/Base64.txt', 'data/Base96.txt', 'data/Base128.txt']\n",
    "files_count = len(files_balance)\n",
    "fig, axes = plt.subplots(1, files_count, figsize=(12, 3))\n",
    "fig.tight_layout()\n",
    "for i in range(files_count):\n",
    "    ax = axes[i]\n",
    "    file = files_balance[i]\n",
    "    X, y = get_data(file)\n",
    "    uniq = np.unique(y, return_counts=True)\n",
    "    ax.bar(uniq[0], uniq[1], color=['blue', 'green'])\n",
    "    ax.set_title(file)"
   ]
  },
  {
   "cell_type": "code",
   "execution_count": null,
   "metadata": {},
   "outputs": [],
   "source": [
    "def show_data_count_dependency(filename, data_sizes):\n",
    "    X, y = get_data(filename)\n",
    "    X_der = der_challenge(X)\n",
    "    accuracy_data = []\n",
    "    for training_size in data_sizes:\n",
    "        training_size = int(training_size)\n",
    "    \n",
    "        X_train = X_der[:training_size]\n",
    "        y_train = y[:training_size]\n",
    "        X_test = X_der[training_size:training_size + 3000]\n",
    "        y_test = y[training_size:training_size + 3000]\n",
    "\n",
    "        lr_model = LogisticRegression()\n",
    "        svm_model = SVC()\n",
    "        gb_tree_model = GradientBoostingClassifier()\n",
    "\n",
    "        lr_model.fit(X_train, y_train)\n",
    "        svm_model.fit(X_train, y_train)\n",
    "        gb_tree_model.fit(X_train, y_train)\n",
    "\n",
    "        accuracy_data.append(\n",
    "            np.array([\n",
    "                training_size,\n",
    "                accuracy_score(y_test, lr_model.predict(X_test)),\n",
    "                accuracy_score(y_test, svm_model.predict(X_test)),\n",
    "                accuracy_score(y_test, gb_tree_model.predict(X_test)),\n",
    "            ])\n",
    "        )\n",
    "\n",
    "    accuracy_data = np.array(accuracy_data)\n",
    "\n",
    "    plt.figure(figsize=(12,6))\n",
    "\n",
    "    plt.plot(accuracy_data[:,0], accuracy_data[:,1], marker='.', color='green', label='Логистическая регрессия')\n",
    "    plt.plot(accuracy_data[:,0], accuracy_data[:,2], marker='.', color='blue', label='Метод опорных векторов')\n",
    "    plt.plot(accuracy_data[:,0], accuracy_data[:,3], marker='.', color='orange', label='Градиентный бустинг')\n",
    "\n",
    "    plt.title(f'На данных: {filename}')\n",
    "    plt.xticks(np.linspace(np.min(data_sizes), np.max(data_sizes), 10), fontsize=10)\n",
    "    \n",
    "    plt.xlabel('Размер обучающей выборки', fontsize=14)\n",
    "    plt.ylabel('Accuracy', fontsize=14)\n",
    "    plt.legend(loc='lower right')\n",
    "    plt.grid(True)\n",
    "    plt.show()"
   ]
  },
  {
   "cell_type": "code",
   "execution_count": 15,
   "metadata": {},
   "outputs": [
    {
     "ename": "NameError",
     "evalue": "name 'show_data_count_dependency' is not defined",
     "output_type": "error",
     "traceback": [
      "\u001b[0;31m---------------------------------------------------------------------------\u001b[0m",
      "\u001b[0;31mNameError\u001b[0m                                 Traceback (most recent call last)",
      "\u001b[0;32m<ipython-input-15-025f91f4e758>\u001b[0m in \u001b[0;36m<module>\u001b[0;34m\u001b[0m\n\u001b[0;32m----> 1\u001b[0;31m \u001b[0mshow_data_count_dependency\u001b[0m\u001b[0;34m(\u001b[0m\u001b[0;34m'Base16.txt'\u001b[0m\u001b[0;34m,\u001b[0m \u001b[0mnp\u001b[0m\u001b[0;34m.\u001b[0m\u001b[0mlinspace\u001b[0m\u001b[0;34m(\u001b[0m\u001b[0;36m50\u001b[0m\u001b[0;34m,\u001b[0m \u001b[0;36m1800\u001b[0m\u001b[0;34m,\u001b[0m \u001b[0;36m40\u001b[0m\u001b[0;34m)\u001b[0m\u001b[0;34m)\u001b[0m\u001b[0;34m\u001b[0m\u001b[0;34m\u001b[0m\u001b[0m\n\u001b[0m",
      "\u001b[0;31mNameError\u001b[0m: name 'show_data_count_dependency' is not defined"
     ]
    }
   ],
   "source": [
    "show_data_count_dependency('Base16.txt', np.linspace(50, 1800, 40))"
   ]
  },
  {
   "cell_type": "code",
   "execution_count": 16,
   "metadata": {},
   "outputs": [
    {
     "ename": "NameError",
     "evalue": "name 'show_data_count_dependency' is not defined",
     "output_type": "error",
     "traceback": [
      "\u001b[0;31m---------------------------------------------------------------------------\u001b[0m",
      "\u001b[0;31mNameError\u001b[0m                                 Traceback (most recent call last)",
      "\u001b[0;32m<ipython-input-16-8b0f97f70df1>\u001b[0m in \u001b[0;36m<module>\u001b[0;34m\u001b[0m\n\u001b[0;32m----> 1\u001b[0;31m \u001b[0mshow_data_count_dependency\u001b[0m\u001b[0;34m(\u001b[0m\u001b[0;34m'Base64.txt'\u001b[0m\u001b[0;34m,\u001b[0m \u001b[0mnp\u001b[0m\u001b[0;34m.\u001b[0m\u001b[0mlinspace\u001b[0m\u001b[0;34m(\u001b[0m\u001b[0;36m100\u001b[0m\u001b[0;34m,\u001b[0m \u001b[0;36m5000\u001b[0m\u001b[0;34m,\u001b[0m \u001b[0;36m70\u001b[0m\u001b[0;34m)\u001b[0m\u001b[0;34m)\u001b[0m\u001b[0;34m\u001b[0m\u001b[0;34m\u001b[0m\u001b[0m\n\u001b[0m",
      "\u001b[0;31mNameError\u001b[0m: name 'show_data_count_dependency' is not defined"
     ]
    }
   ],
   "source": [
    "show_data_count_dependency('Base64.txt', np.linspace(100, 5000, 70))"
   ]
  },
  {
   "cell_type": "code",
   "execution_count": 17,
   "metadata": {},
   "outputs": [],
   "source": [
    "def show_N_count_dependency(files):\n",
    "    accuracy_data = []\n",
    "    \n",
    "    for file in files:\n",
    "        X, y = get_data(file)\n",
    "        X_der = der_challenge(X)\n",
    "        \n",
    "        training_size = 10000\n",
    "        X_train, X_test, y_train, y_test = train_test_split(X_der[:training_size], y[:training_size])\n",
    "\n",
    "        lr_model = LogisticRegression()\n",
    "        svm_model = SVC()\n",
    "        gb_tree_model = GradientBoostingClassifier()\n",
    "\n",
    "        lr_model.fit(X_train, y_train)\n",
    "        svm_model.fit(X_train, y_train)\n",
    "        gb_tree_model.fit(X_train, y_train)\n",
    "\n",
    "        accuracy_data.append(\n",
    "            np.array([\n",
    "                accuracy_score(y_test, lr_model.predict(X_test)),\n",
    "                accuracy_score(y_test, svm_model.predict(X_test)),\n",
    "                accuracy_score(y_test, gb_tree_model.predict(X_test)),\n",
    "            ])\n",
    "        )\n",
    "        \n",
    "\n",
    "    accuracy_data = np.array(accuracy_data)\n",
    "\n",
    "    plt.figure(figsize=(12,6))\n",
    "\n",
    "    x = np.linspace(1, len(files), len(files))\n",
    "    \n",
    "    plt.plot(x, accuracy_data[:,0], marker='.', color='green', label='Логистическая регрессия')\n",
    "    plt.plot(x, accuracy_data[:,1], marker='.', color='blue', label='Метод опорных векторов')\n",
    "    plt.plot(x, accuracy_data[:,2], marker='.', color='orange', label='Градиентный бустинг')\n",
    "\n",
    "    plt.xticks(x,files, fontsize=14)\n",
    "    \n",
    "    plt.xlabel('N', fontsize=14)\n",
    "    plt.ylabel('Accuracy', fontsize=14)\n",
    "    plt.legend(loc='lower right')\n",
    "    plt.grid(True)\n",
    "    plt.show()"
   ]
  },
  {
   "cell_type": "code",
   "execution_count": 20,
   "metadata": {
    "scrolled": true
   },
   "outputs": [
    {
     "data": {
      "image/png": "[encoded data removed]",
      "text/plain": [
       "<Figure size 864x432 with 1 Axes>"
      ]
     },
     "metadata": {
      "needs_background": "light"
     },
     "output_type": "display_data"
    }
   ],
   "source": [
    "files = ['data/Base8.txt', 'data/Base16.txt', 'data/Base32.txt', 'data/Base48.txt', 'data/Base64.txt', 'data/Base96.txt', 'data/Base128.txt']\n",
    "show_N_count_dependency(files)"
   ]
  },
  {
   "cell_type": "markdown",
   "metadata": {},
   "source": [
    "**Вывод** \n",
    "\n",
    "Наличие стабильности подвергает ФНФ риску криптографической атаки с помощью методов машинного обучения (построения точной математической модели ФНФ)"
   ]
  }
 ],
 "metadata": {
  "kernelspec": {
   "display_name": "Python 3",
   "language": "python",
   "name": "python3"
  },
  "language_info": {
   "codemirror_mode": {
    "name": "ipython",
    "version": 3
   },
   "file_extension": ".py",
   "mimetype": "text/x-python",
   "name": "python",
   "nbconvert_exporter": "python",
   "pygments_lexer": "ipython3",
   "version": "3.7.4"
  }
 },
 "nbformat": 4,
 "nbformat_minor": 2
}
